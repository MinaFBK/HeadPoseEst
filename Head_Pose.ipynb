{
  "nbformat": 4,
  "nbformat_minor": 0,
  "metadata": {
    "colab": {
      "name": "Head_Pose.ipynb",
      "provenance": [],
      "collapsed_sections": [],
      "include_colab_link": true
    },
    "kernelspec": {
      "name": "python3",
      "display_name": "Python 3"
    },
    "language_info": {
      "name": "python"
    }
  },
  "cells": [
    {
      "cell_type": "markdown",
      "metadata": {
        "id": "view-in-github",
        "colab_type": "text"
      },
      "source": [
        "<a href=\"https://colab.research.google.com/github/MinaFBK/HeadPoseEst/blob/main/Head_Pose.ipynb\" target=\"_parent\"><img src=\"https://colab.research.google.com/assets/colab-badge.svg\" alt=\"Open In Colab\"/></a>"
      ]
    },
    {
      "cell_type": "code",
      "source": [
        "pip install mediapipe"
      ],
      "metadata": {
        "colab": {
          "base_uri": "https://localhost:8080/"
        },
        "id": "bPI2knmbhG6i",
        "outputId": "321d67e6-01e2-4ec6-c3ff-8b80b4a771e7"
      },
      "execution_count": null,
      "outputs": [
        {
          "output_type": "stream",
          "name": "stdout",
          "text": [
            "Looking in indexes: https://pypi.org/simple, https://us-python.pkg.dev/colab-wheels/public/simple/\n",
            "Requirement already satisfied: mediapipe in /usr/local/lib/python3.7/dist-packages (0.8.10)\n",
            "Requirement already satisfied: numpy in /usr/local/lib/python3.7/dist-packages (from mediapipe) (1.21.6)\n",
            "Requirement already satisfied: opencv-contrib-python in /usr/local/lib/python3.7/dist-packages (from mediapipe) (4.1.2.30)\n",
            "Requirement already satisfied: absl-py in /usr/local/lib/python3.7/dist-packages (from mediapipe) (1.1.0)\n",
            "Requirement already satisfied: matplotlib in /usr/local/lib/python3.7/dist-packages (from mediapipe) (3.2.2)\n",
            "Requirement already satisfied: attrs>=19.1.0 in /usr/local/lib/python3.7/dist-packages (from mediapipe) (21.4.0)\n",
            "Requirement already satisfied: protobuf>=3.11.4 in /usr/local/lib/python3.7/dist-packages (from mediapipe) (3.17.3)\n",
            "Requirement already satisfied: six>=1.9 in /usr/local/lib/python3.7/dist-packages (from protobuf>=3.11.4->mediapipe) (1.15.0)\n",
            "Requirement already satisfied: python-dateutil>=2.1 in /usr/local/lib/python3.7/dist-packages (from matplotlib->mediapipe) (2.8.2)\n",
            "Requirement already satisfied: kiwisolver>=1.0.1 in /usr/local/lib/python3.7/dist-packages (from matplotlib->mediapipe) (1.4.3)\n",
            "Requirement already satisfied: cycler>=0.10 in /usr/local/lib/python3.7/dist-packages (from matplotlib->mediapipe) (0.11.0)\n",
            "Requirement already satisfied: pyparsing!=2.0.4,!=2.1.2,!=2.1.6,>=2.0.1 in /usr/local/lib/python3.7/dist-packages (from matplotlib->mediapipe) (3.0.9)\n",
            "Requirement already satisfied: typing-extensions in /usr/local/lib/python3.7/dist-packages (from kiwisolver>=1.0.1->matplotlib->mediapipe) (4.1.1)\n"
          ]
        }
      ]
    },
    {
      "cell_type": "code",
      "execution_count": null,
      "metadata": {
        "id": "zKmSKSWHZfUr"
      },
      "outputs": [],
      "source": [
        "import os\n",
        "import cv2\n",
        "import glob\n",
        "import warnings\n",
        "import mediapipe\n",
        "import numpy as np\n",
        "import pandas as pd\n",
        "import matplotlib.pyplot as plt\n",
        "from xgboost import XGBRegressor\n",
        "from sklearn.metrics import mean_absolute_error\n",
        "from sklearn.model_selection import train_test_split\n",
        "import scipy.io as sio\n",
        "from pathlib import Path\n",
        "from math import cos, sin\n",
        "from sklearn.svm import SVR\n",
        "from sklearn.metrics import mean_absolute_error\n",
        "from google.colab.patches import cv2_imshow\n",
        "from sklearn.model_selection import cross_val_score,GridSearchCV\n",
        "\n",
        "%matplotlib inline\n",
        "warnings.filterwarnings('ignore')"
      ]
    },
    {
      "cell_type": "code",
      "source": [
        "#from google.colab import drive\n",
        "#drive.mount('/content/drive')\n",
        "#!unzip /content/drive/MyDrive/AFLW2000-3D.zip"
      ],
      "metadata": {
        "id": "8xUkwkXmqPum",
        "colab": {
          "base_uri": "https://localhost:8080/"
        },
        "outputId": "892e9f07-60b4-43f2-9369-3af10177e5dd"
      },
      "execution_count": null,
      "outputs": [
        {
          "output_type": "stream",
          "name": "stdout",
          "text": [
            "Archive:  /content/drive/MyDrive/AFLW2000-3D.zip\n",
            "replace AFLW2000/Code/DrawSolidHead.m? [y]es, [n]o, [A]ll, [N]one, [r]ename: "
          ]
        }
      ]
    },
    {
      "cell_type": "code",
      "source": [
        "def get_pyr_from_mat(mat_path):\n",
        "    # Get yaw, pitch, roll from .mat annotation.\n",
        "    # They are in radians\n",
        "    mat = sio.loadmat(mat_path)\n",
        "    # [pitch yaw roll tdx tdy tdz scale_factor]\n",
        "    pre_pose_params = mat['Pose_Para'][0]\n",
        "    # Get [pitch, yaw, roll]\n",
        "    pose_params = pre_pose_params[:3]\n",
        "    return pose_params"
      ],
      "metadata": {
        "id": "y7orRI7BgmCE"
      },
      "execution_count": null,
      "outputs": []
    },
    {
      "cell_type": "code",
      "source": [
        "def draw_axis(img, pitch, yaw, roll, tdx=None, tdy=None, size = 100):\n",
        "    # this function take image and return image with drawn pitch, yaw and roll axes on it.\n",
        "    # input: \n",
        "    #     - img: image itself,\n",
        "    #     - pitch: pitch value to be drawn as axis,\n",
        "    #     - yaw: yaw value to be drawn as axis,\n",
        "    #     - roll: roll value to be drawn as axis,\n",
        "    #     - tdx: point on x-axis draw axis from, if None it sclect point in the moddle of the image,\n",
        "    #     - tdy: point on y-axis draw axis from, if None it sclect point in the moddle of the image,\n",
        "    #     - size: the lenght of axis in pixles.\n",
        "    # output:\n",
        "    #     - image with drawn pitch, yaw and roll axes on it.\n",
        "\n",
        "    yaw = -yaw\n",
        "\n",
        "    if tdx != None and tdy != None:\n",
        "        pass\n",
        "\n",
        "    else:\n",
        "        height, width = img.shape[:2]\n",
        "        tdx = width / 2\n",
        "        tdy = height / 2\n",
        "\n",
        "    # X-Axis pointing to right. drawn in red\n",
        "    x1 = size * (cos(yaw) * cos(roll)) + tdx\n",
        "    y1 = size * (cos(pitch) * sin(roll) + cos(roll) * sin(pitch) * sin(yaw)) + tdy\n",
        "\n",
        "    # Y-Axis | drawn in green\n",
        "    #        v\n",
        "    x2 = size * (-cos(yaw) * sin(roll)) + tdx\n",
        "    y2 = size * (cos(pitch) * cos(roll) - sin(pitch) * sin(yaw) * sin(roll)) + tdy\n",
        "\n",
        "    # Z-Axis (out of the screen) drawn in blue\n",
        "    x3 = size * (sin(yaw)) + tdx\n",
        "    y3 = size * (-cos(yaw) * sin(pitch)) + tdy\n",
        "    \n",
        "    \n",
        "    cv2.line(img, (int(tdx), int(tdy)), (int(x1),int(y1)),(0,0,255),2)\n",
        "    cv2.line(img, (int(tdx), int(tdy)), (int(x2),int(y2)),(0,255,0),2)\n",
        "    cv2.line(img, (int(tdx), int(tdy)), (int(x3),int(y3)),(255,0,0),2)\n",
        "    \n",
        "\n",
        "    return img"
      ],
      "metadata": {
        "id": "n35j0iHnjl69"
      },
      "execution_count": null,
      "outputs": []
    },
    {
      "cell_type": "code",
      "source": [
        "mylist = [Path(f).stem for f in glob.glob(\"AFLW2000/*.mat\")]\n",
        "random_number = 22"
      ],
      "metadata": {
        "id": "-7eAD-TJjrDw"
      },
      "execution_count": null,
      "outputs": []
    },
    {
      "cell_type": "code",
      "source": [
        "def get_pt2d_from_img(img_name, relative_path = True, frame = False):\n",
        "    # this function get each point on the face x,y 468 * 2 to get 936 features per face.\n",
        "    # input: \n",
        "    #     - img_name: file name or image itself decided which using the next inputs as default is image name with relative path\n",
        "    #     - relative_path: default value is True, if False it take the whole pass from the user\n",
        "    #     - frame: override the previous flag if Ture deals as image or frame from video\n",
        "    # output:\n",
        "    #     - numpy array of tuple for each point on the face.\n",
        "    \n",
        "    x_points = []\n",
        "    y_points = []\n",
        "    faceModule = mediapipe.solutions.face_mesh\n",
        "    with faceModule.FaceMesh(static_image_mode=True) as faces:\n",
        "        # loading the image\n",
        "        if frame:\n",
        "            image = img_name\n",
        "        elif relative_path :\n",
        "            image = cv2.imread('AFLW2000/'+img_name+'.jpg')\n",
        "        else:\n",
        "            image = cv2.imread(img_name)\n",
        "        # processing the face to extract the landmark points (468 point) for each x,y,z\n",
        "        results = faces.process(cv2.cvtColor(image, cv2.COLOR_BGR2RGB))\n",
        "        if results.multi_face_landmarks: \n",
        "          # looping over the faces in the image\n",
        "          for face in results.multi_face_landmarks:\n",
        "\n",
        "            for landmark in face.landmark:\n",
        "                x = landmark.x\n",
        "                y = landmark.y\n",
        "                # note: the x and y values are scaled to the their width and height so we will get back their actual value in the image\n",
        "                shape = image.shape \n",
        "                relative_x = int(x * shape[1])\n",
        "                relative_y = int(y * shape[0])\n",
        "                x_points.append(relative_x)\n",
        "                y_points.append(relative_y)\n",
        "                \n",
        "    return(np.array([x_points,y_points]))  "
      ],
      "metadata": {
        "id": "tz44J7uDjsmp"
      },
      "execution_count": null,
      "outputs": []
    },
    {
      "cell_type": "code",
      "source": [
        "df = pd.DataFrame(columns=[['x'+str(i) for i in range(1, 469)] + ['y'+str(i) for i in range(1, 469)] + ['pitch', 'yaw', 'roll']])\n",
        "\n",
        "for img_file in mylist:\n",
        "    full_path = os.path.join('AFLW2000/', img_file)\n",
        "    x_y_list = get_pt2d_from_img(img_file)\n",
        "    \n",
        "    xs = x_y_list[0]\n",
        "    ys = x_y_list[1]\n",
        "    if len(xs):\n",
        "        r = ys[7] - ys[1]\n",
        "        xs = (xs - xs[1]) / r\n",
        "        ys = (ys - ys[1]) / r\n",
        "        pyr = get_pyr_from_mat(full_path)\n",
        "    \n",
        "        df = df.append(\n",
        "            pd.DataFrame(\n",
        "                np.append(xs, np.append(ys, pyr ,axis=0),axis=0).reshape(1,-1),\n",
        "                columns=df.columns),\n",
        "            ignore_index=True)\n",
        "    else:\n",
        "        pass\n",
        "df.to_csv('Point_Results.csv')"
      ],
      "metadata": {
        "id": "Nu1ZnGsOjxTA"
      },
      "execution_count": null,
      "outputs": []
    },
    {
      "cell_type": "code",
      "source": [
        "df = pd.read_csv('Point_Results.csv', index_col=0)\n",
        "x = df.drop(['pitch', 'yaw', 'roll'], axis=1)\n"
      ],
      "metadata": {
        "id": "cjl0Qt9dEQrX"
      },
      "execution_count": null,
      "outputs": []
    },
    {
      "cell_type": "code",
      "source": [
        "pitch = df['pitch']\n",
        "yaw = df['yaw']\n",
        "roll = df['roll']\n",
        "# pitch,yaw,roll"
      ],
      "metadata": {
        "id": "NkbcJzf-tKz9"
      },
      "execution_count": null,
      "outputs": []
    },
    {
      "cell_type": "code",
      "source": [
        "pitch_X_train, pitch_X_test, pitch_y_train, pitch_y_test = train_test_split(x, pitch, test_size=0.2,random_state=42)\n",
        "\n",
        "xg_pitch = XGBRegressor(learning_rate=0.7, max_depth=1, n_estimators=13)\n",
        "xg_pitch.fit(pitch_X_train, pitch_y_train)\n",
        "print(\"Train Error: \",mean_absolute_error(xg_pitch.predict(pitch_X_train),pitch_y_train))\n",
        "print('R2 Score: ',xg_pitch.score(pitch_X_train, pitch_y_train))\n",
        "print(\"Validation Error: \",mean_absolute_error(xg_pitch.predict(pitch_X_test),pitch_y_test))\n",
        "print('R2 Score: ',xg_pitch.score(pitch_X_test, pitch_y_test))"
      ],
      "metadata": {
        "colab": {
          "base_uri": "https://localhost:8080/"
        },
        "id": "EPStUmcsvXBK",
        "outputId": "58cc4f02-b55d-4c52-f8e9-cf2cf2d599cf"
      },
      "execution_count": null,
      "outputs": [
        {
          "output_type": "stream",
          "name": "stdout",
          "text": [
            "[13:23:45] WARNING: /workspace/src/objective/regression_obj.cu:152: reg:linear is now deprecated in favor of reg:squarederror.\n",
            "Train Error:  0.15331844164575412\n",
            "R2 Score:  0.46579925670299216\n",
            "Validation Error:  0.1503007050068306\n",
            "R2 Score:  0.2369313484745943\n"
          ]
        }
      ]
    },
    {
      "cell_type": "code",
      "source": [
        "yaw_X_train, yaw_X_test, yaw_y_train, yaw_y_test = train_test_split(x, yaw, test_size=0.2,random_state=42)\n",
        "\n",
        "xg_yaw = XGBRegressor(random_state=0,verbosity = 0 , eta = 0.7 , n_estimators= 10 , max_depth=5)\n",
        "xg_yaw.fit(yaw_X_train, yaw_y_train)\n",
        "print(\"Train Error: \",mean_absolute_error(xg_yaw.predict(yaw_X_train),yaw_y_train))\n",
        "print('R2 Score: ',xg_yaw.score(yaw_X_train, yaw_y_train))\n",
        "print(\"Validation Error: \",mean_absolute_error(xg_yaw.predict(yaw_X_test),yaw_y_test))\n",
        "print('R2 Score: ',xg_yaw.score(yaw_X_test, yaw_y_test))"
      ],
      "metadata": {
        "colab": {
          "base_uri": "https://localhost:8080/"
        },
        "id": "znCYScbnxjv7",
        "outputId": "e9dfda8c-ef80-49fc-e532-47252bed74c3"
      },
      "execution_count": null,
      "outputs": [
        {
          "output_type": "stream",
          "name": "stdout",
          "text": [
            "Train Error:  0.2285978476467439\n",
            "R2 Score:  0.7211044689508721\n",
            "Validation Error:  0.23401822075244627\n",
            "R2 Score:  0.7044060665932277\n"
          ]
        }
      ]
    },
    {
      "cell_type": "code",
      "source": [
        "roll_X_train, roll_X_test, roll_y_train, roll_y_test = train_test_split(x, roll, test_size=0.2,random_state=42)\n",
        "\n",
        "xg_roll = XGBRegressor(random_state=0,verbosity = 0 , eta = 0.7 , n_estimators= 10 , max_depth=5)\n",
        "xg_roll.fit(roll_X_train, roll_y_train)\n",
        "print(\"Train Error: \",mean_absolute_error(xg_roll.predict(roll_X_train),roll_y_train))\n",
        "print('R2 Score: ',xg_roll.score(roll_X_train, roll_y_train))\n",
        "print(\"Validation Error: \",mean_absolute_error(xg_roll.predict(roll_X_test),roll_y_test))\n",
        "print('R2 Score: ',xg_roll.score(roll_X_test, roll_y_test))"
      ],
      "metadata": {
        "colab": {
          "base_uri": "https://localhost:8080/"
        },
        "id": "Nmf_89Gcx7lS",
        "outputId": "afa47f68-6cf7-4a8f-e81d-5869a6c425b4"
      },
      "execution_count": null,
      "outputs": [
        {
          "output_type": "stream",
          "name": "stdout",
          "text": [
            "Train Error:  0.21873398077149217\n",
            "R2 Score:  0.6570720556235103\n",
            "Validation Error:  0.2272180892153931\n",
            "R2 Score:  0.2058038573451586\n"
          ]
        }
      ]
    },
    {
      "cell_type": "code",
      "source": [
        "def test_img(img_file,relative_path = False, frame = False):\n",
        "    df = pd.DataFrame(columns=[['x'+str(i) for i in range(1, 469)] + ['y'+str(i) for i in range(1, 469)]])\n",
        "\n",
        "    x_y_list = get_pt2d_from_img(img_file,relative_path,frame)\n",
        "    temp_list  = x_y_list\n",
        "    tdx,tdy = None, None\n",
        "    xs = x_y_list[0]\n",
        "    ys = x_y_list[1]\n",
        "\n",
        "    if len(xs):\n",
        "        divisor = ys[10] - ys[1]\n",
        "        xs = (xs - xs[1]) / divisor\n",
        "        ys = (ys - ys[1]) / divisor\n",
        "  \n",
        "        df = df.append(\n",
        "            pd.DataFrame(\n",
        "                np.append(xs,ys ,axis=0).reshape(1,-1),\n",
        "                columns=df.columns),\n",
        "            ignore_index=True)\n",
        "        tdx,tdy = x_y_list[1][0], x_y_list[1][1]\n",
        "        x_y_list = [x for x in zip(*temp_list)]\n",
        "    else:\n",
        "        pass\n",
        "    \n",
        "    return df,tdx,tdy,x_y_list"
      ],
      "metadata": {
        "id": "BLc4VfGwziQT"
      },
      "execution_count": null,
      "outputs": []
    },
    {
      "cell_type": "code",
      "source": [
        "def predict_pyr(img_name, frame = False):\n",
        "    data,tdx,tdy,x_y_list = test_img(img_name,frame = frame)\n",
        "    if len(data) == 0 :\n",
        "        pitch = 0\n",
        "        yaw   = 0\n",
        "        roll  = 0\n",
        "    else:\n",
        "        pitch = xg_pitch.predict(data)\n",
        "        yaw   = xg_yaw.predict(data)\n",
        "        roll  = xg_roll.predict(data)\n",
        "\n",
        "    return( pitch, yaw, roll,x_y_list)"
      ],
      "metadata": {
        "id": "QIJxy4oEzilS"
      },
      "execution_count": null,
      "outputs": []
    },
    {
      "cell_type": "code",
      "source": [
        "video_path = \"/content/drive/MyDrive/HeadPose.mp4\"\n",
        "filename = '/content/HeadPoseResult.mp4'\n",
        "\n",
        "\n",
        "cap = cv2.VideoCapture(video_path)\n",
        "frame_width = int(cap.get(3))\n",
        "frame_height = int(cap.get(4))\n",
        "out = cv2.VideoWriter(filename,cv2.VideoWriter_fourcc('M','J','P','G'), 30, (frame_width,frame_height))\n",
        "\n",
        "while True:\n",
        "    ret, frame = cap.read()\n",
        "    if not ret:\n",
        "      print(\"Can't receive frame (stream end?). Exiting ...\")\n",
        "      break \n",
        "\n",
        "\n",
        "    pitch, yaw, roll,x_y_list = predict_pyr(frame ,frame=True)\n",
        "\n",
        "    img = draw_axis(frame, pitch , yaw, roll, size = 200)\n",
        "    out.write(img) # write frame\n",
        "\n",
        "    \n",
        "    \n",
        "        \n",
        "# release and destroy windows\n",
        "out.release()\n",
        "cap.release()\n",
        "cv2.destroyAllWindows()"
      ],
      "metadata": {
        "colab": {
          "base_uri": "https://localhost:8080/"
        },
        "id": "KqpmntLLzrJX",
        "outputId": "05739892-bdc6-4dfa-b441-507c10e89490"
      },
      "execution_count": null,
      "outputs": [
        {
          "output_type": "stream",
          "name": "stdout",
          "text": [
            "Can't receive frame (stream end?). Exiting ...\n"
          ]
        }
      ]
    },
    {
      "cell_type": "code",
      "source": [
        "from google.colab import drive\n",
        "drive.mount('/content/drive')"
      ],
      "metadata": {
        "id": "eO6UGr-X_BJv"
      },
      "execution_count": null,
      "outputs": []
    }
  ]
}